{
  "cells": [
    {
      "cell_type": "markdown",
      "id": "a636de50-93a3-4d59-9b2a-d21b8d69a24f",
      "metadata": {
        "id": "a636de50-93a3-4d59-9b2a-d21b8d69a24f"
      },
      "source": [
        "## TALLER TEORÍA CUÁNTICA BÁSICA, OBSERVABLES Y MEDIDAS\n",
        "#### Sebastian Guerrero Ruge"
      ]
    },
    {
      "cell_type": "markdown",
      "id": "1bba413b-fac6-46c5-885d-6752cd117b29",
      "metadata": {
        "id": "1bba413b-fac6-46c5-885d-6752cd117b29"
      },
      "source": [
        "## Excercises"
      ]
    },
    {
      "cell_type": "markdown",
      "id": "c25357a1-918f-4a44-a5a6-0eefb25a68c1",
      "metadata": {
        "id": "c25357a1-918f-4a44-a5a6-0eefb25a68c1"
      },
      "source": [
        "# 1. SIMULE EL PRIMER SISTEMA CUÁNTICO DESCRITO EN LA SECCIÓN 4.1."
      ]
    },
    {
      "cell_type": "markdown",
      "id": "32fbb52e-d6ce-4d7f-b5e8-56ade6196156",
      "metadata": {
        "id": "32fbb52e-d6ce-4d7f-b5e8-56ade6196156"
      },
      "source": [
        "El sistema consiste en una partícula confinada a un conjunto discreto de posiciones en una línea. El simulador debe permitir especificar el número de posiciones y un vector ket de estado asignando las amplitudes."
      ]
    },
    {
      "cell_type": "code",
      "execution_count": 6,
      "id": "eae4a755-3c07-4191-9c09-9f120b137731",
      "metadata": {
        "id": "eae4a755-3c07-4191-9c09-9f120b137731"
      },
      "outputs": [],
      "source": [
        "import numpy as np\n",
        "\n",
        "def norma(v, p):\n",
        "    a = v[p]\n",
        "    num = np.linalg.norm(a)\n",
        "    return num ** 2\n",
        "\n",
        "def sum_prov(v, p):\n",
        "    suma = 0\n",
        "    for p in range(len(v)):\n",
        "        sum1 = suma + norma(v, p)\n",
        "        suma = sum1\n",
        "    return suma\n",
        "\n",
        "def prov(v, p):\n",
        "    num = norma(v, p)\n",
        "    den = sum_prov(v, p)\n",
        "    return num / den"
      ]
    },
    {
      "cell_type": "markdown",
      "id": "e893a673-1703-40f6-878c-565d4cc5d64e",
      "metadata": {
        "id": "e893a673-1703-40f6-878c-565d4cc5d64e"
      },
      "source": [
        "### 1. El sistema debe calcular la probabilidad de encontrarlo en una posición en particular."
      ]
    },
    {
      "cell_type": "code",
      "execution_count": 7,
      "id": "a8d65447-039f-44c5-80a8-56b223110c75",
      "metadata": {
        "colab": {
          "base_uri": "https://localhost:8080/"
        },
        "id": "a8d65447-039f-44c5-80a8-56b223110c75",
        "outputId": "983daae0-03c1-4ff9-8090-42d0c5235740"
      },
      "outputs": [
        {
          "output_type": "stream",
          "name": "stdout",
          "text": [
            "0.05263157894736842\n"
          ]
        }
      ],
      "source": [
        "v1=np.array([-3-1j,-2j,-1j,2])\n",
        "p=2\n",
        "one=prov(v1,p)\n",
        "print(one)"
      ]
    },
    {
      "cell_type": "markdown",
      "id": "61647967-509a-4cdb-9a1d-b59815a1e56b",
      "metadata": {
        "id": "61647967-509a-4cdb-9a1d-b59815a1e56b"
      },
      "source": [
        "### 2. El sistema si se le da otro vector Ket debe buscar la probabilidad de transitar del primer vector al segundo."
      ]
    },
    {
      "cell_type": "code",
      "execution_count": 8,
      "id": "4532316b-4201-44f9-a1b3-0f475d57f669",
      "metadata": {
        "id": "4532316b-4201-44f9-a1b3-0f475d57f669"
      },
      "outputs": [],
      "source": [
        "import numpy as np\n",
        "def probabilidad(v1, v2):\n",
        "    v1n = v1 / np.linalg.norm(v1)**(1/2)\n",
        "    v2n = v2 / np.linalg.norm(v2)**(1/2)\n",
        "    r = np.transpose(np.conjugate(v2n))\n",
        "    o = np.dot(r, v1n)\n",
        "    p = np.real(o)\n",
        "    i = np.imag(o)\n",
        "    tra2 = norma(np.array([p, i]), 0)\n",
        "    return tra2"
      ]
    },
    {
      "cell_type": "code",
      "execution_count": 9,
      "id": "35d04b40-f616-4540-87f5-0d2fb9bfbbc4",
      "metadata": {
        "colab": {
          "base_uri": "https://localhost:8080/"
        },
        "id": "35d04b40-f616-4540-87f5-0d2fb9bfbbc4",
        "outputId": "db520d7e-9dbf-4b7c-9e11-475a1a65f50a"
      },
      "outputs": [
        {
          "output_type": "stream",
          "name": "stdout",
          "text": [
            "0.7348469228349533\n"
          ]
        }
      ],
      "source": [
        "v1 = np.array([3+5j, 6+3j, 1+0j])\n",
        "v2 = np.array([2+1j, -3j, 4])\n",
        "prt = probabilidad(v1, v2)\n",
        "print(prt)"
      ]
    },
    {
      "cell_type": "markdown",
      "id": "a567f8a6-bc00-4a65-8037-13e0ffaea2e7",
      "metadata": {
        "id": "a567f8a6-bc00-4a65-8037-13e0ffaea2e7"
      },
      "source": [
        "## COMPLETE LOS RETOS DE PROGRAMACIÓN DEL CAPÍTULO 4."
      ]
    },
    {
      "cell_type": "markdown",
      "id": "bf4f8c0c-c5a9-4dc8-844b-1ed6b8cefa9d",
      "metadata": {
        "id": "bf4f8c0c-c5a9-4dc8-844b-1ed6b8cefa9d"
      },
      "source": [
        "### 1. Amplitud de transición. El sistema puede recibir dos vectores y calcular la probabilidad de transitar de el uno al otro después de hacer la observación"
      ]
    },
    {
      "cell_type": "code",
      "execution_count": 10,
      "id": "bd937be8-54c3-48ac-a4c6-879b53bdd4d5",
      "metadata": {
        "id": "bd937be8-54c3-48ac-a4c6-879b53bdd4d5"
      },
      "outputs": [],
      "source": [
        "import numpy as np\n",
        "def amplitud(v1, v2):\n",
        "    v1n = v1 / np.linalg.norm(v1)**(1/2)\n",
        "    v2n = v2 / np.linalg.norm(v2)**(1/2)\n",
        "    r = np.transpose(np.conjugate(v2n))\n",
        "    o = np.dot(r, v1n)\n",
        "    return o\n",
        "def probabilidadtrans(v1,v2):\n",
        "    x=np.array(v1)\n",
        "    vn=x/np.linalg.norm(x)\n",
        "    y=np.array(v2)\n",
        "    vn2=y/np.linalg.norm(y)\n",
        "    r=np.transpose(np.conjugate(vn2))\n",
        "    o=np.dot(r,vn)\n",
        "    p=np.real(o)\n",
        "    i=np.imag(o)\n",
        "    normanum=(p**2)+(i**2)\n",
        "    return normanum"
      ]
    },
    {
      "cell_type": "code",
      "execution_count": 11,
      "id": "02539343-2914-4f2f-bb4d-802764b84f94",
      "metadata": {
        "colab": {
          "base_uri": "https://localhost:8080/"
        },
        "id": "02539343-2914-4f2f-bb4d-802764b84f94",
        "outputId": "3e228101-0182-4790-bba1-35c6fada9206"
      },
      "outputs": [
        {
          "output_type": "stream",
          "name": "stdout",
          "text": [
            "-1.0000000000000002j\n",
            "1.0000000000000004\n"
          ]
        }
      ],
      "source": [
        "v1=np.sqrt(2)/2* np.transpose(np.array([1,1j]))\n",
        "v2=np.sqrt(2)/2* np.transpose(np.array([1j,-1]))\n",
        "rt=amplitud(v1,v2)\n",
        "print(rt)\n",
        "prt=probabilidadtrans(v1,v2)\n",
        "print(prt)\n"
      ]
    },
    {
      "cell_type": "markdown",
      "id": "b3acf909-8b1c-4318-863e-57f8529275d4",
      "metadata": {
        "id": "b3acf909-8b1c-4318-863e-57f8529275d4"
      },
      "source": [
        "### 2. Ahora con una matriz que describa un observable y un vector ket, el sistema revisa que la matriz sea hermitiana, y si lo es, calcula la media y la varianza del observable en el estado dado."
      ]
    },
    {
      "cell_type": "code",
      "execution_count": 12,
      "id": "199e17c4-cf21-4c57-9dbc-2aa079a46688",
      "metadata": {
        "id": "199e17c4-cf21-4c57-9dbc-2aa079a46688"
      },
      "outputs": [],
      "source": [
        "def hervarmed(m,a):\n",
        "    ma=len(m)\n",
        "    na=(len(m[0]))\n",
        "    c=[[0 for i in range (len(m))]for j in range (len(m))]\n",
        "    for elemento in c:\n",
        "        for i in range (ma):\n",
        "            for j in range(na):\n",
        "                c[i][j]=np.conjugate(m[j][i])\n",
        "    if m==c:\n",
        "        media = np.real(np.dot(np.conjugate(np.transpose(a)), np.dot(m, a)))\n",
        "        varianza = np.real(np.dot(np.conjugate(np.transpose(a)), np.dot(np.dot(m,m), a)) - media**2)\n",
        "        return media, varianza\n",
        "    else:\n",
        "        return(\"Matriz no hermitiana\")"
      ]
    },
    {
      "cell_type": "code",
      "execution_count": 13,
      "id": "49c9102b-57f1-4e21-a21a-adb962a51f1b",
      "metadata": {
        "colab": {
          "base_uri": "https://localhost:8080/"
        },
        "id": "49c9102b-57f1-4e21-a21a-adb962a51f1b",
        "outputId": "13e3f586-287f-4851-cf94-35b53f569ae2"
      },
      "outputs": [
        {
          "output_type": "stream",
          "name": "stdout",
          "text": [
            "La media y la varianza para la materiz da:\n",
            "(np.float64(2.0), np.float64(10.0))\n",
            "Matriz no hermitiana\n"
          ]
        }
      ],
      "source": [
        "v=hervarmed([[2, 1+3j],[1-3j, 4]], [1,0])\n",
        "if v != \"Matriz no hermitiana\" :\n",
        "    print (\"La media y la varianza para la materiz da:\")\n",
        "    print(v)\n",
        "else :\n",
        "    print (v)\n",
        "\n",
        "v1=hervarmed([[9, 0+8j],[1-3j, 4]], [0,1])\n",
        "if v1 != \"Matriz no hermitiana\" :\n",
        "    print (\"La media y la varianza para la materiz da:\")\n",
        "    print(v)\n",
        "else :\n",
        "    print(v1)"
      ]
    },
    {
      "cell_type": "markdown",
      "id": "ebcd7dc9-06ff-4c14-892f-dbce0196847c",
      "metadata": {
        "id": "ebcd7dc9-06ff-4c14-892f-dbce0196847c"
      },
      "source": [
        "### 3. El sistema calcula los valores propios del observable y la probabilidad de que el sistema transite a alguno de los vectores propios después de la observación."
      ]
    },
    {
      "cell_type": "code",
      "execution_count": 14,
      "id": "cbcc0a66-4102-4936-a1cb-75e31425c8c1",
      "metadata": {
        "id": "cbcc0a66-4102-4936-a1cb-75e31425c8c1"
      },
      "outputs": [],
      "source": [
        "import numpy as np\n",
        "def val_prob(observable, vector_ket):\n",
        "    if not es_hermitiana(observable):\n",
        "        return \"La matriz no es hermitiana\"\n",
        "    valores_propios, vectores_propios = np.linalg.eig(observable)\n",
        "    probabilidades_transicion = []\n",
        "    for vector_propio in vectores_propios.T:\n",
        "        prob_transicion = np.abs(np.vdot(vector_ket, vector_propio)) ** 2\n",
        "        probabilidades_transicion.append(prob_transicion)\n",
        "\n",
        "    return valores_propios, probabilidades_transicion\n",
        "\n",
        "def es_hermitiana(matriz):\n",
        "    return np.allclose(matriz, matriz.T.conj())\n",
        "\n",
        "\n"
      ]
    },
    {
      "cell_type": "code",
      "execution_count": 15,
      "id": "018e2cc4-bb55-47ad-aa39-464ed4041036",
      "metadata": {
        "colab": {
          "base_uri": "https://localhost:8080/"
        },
        "id": "018e2cc4-bb55-47ad-aa39-464ed4041036",
        "outputId": "28a4ccbf-099b-4c68-f703-c7ff9afa9e72"
      },
      "outputs": [
        {
          "output_type": "stream",
          "name": "stdout",
          "text": [
            "Valores propios del observable: La matriz no es hermitiana\n"
          ]
        }
      ],
      "source": [
        "observable = np.array([[1j, 0, 0], [0, 2+1j, 0], [0, 0, 3]])\n",
        "vector_ket = np.array([1/np.sqrt(2) + 0j, 0, 1/np.sqrt(2) + 0j])\n",
        "\n",
        "valores_propios = val_prob(observable, vector_ket)\n",
        "print(\"Valores propios del observable:\", valores_propios)\n"
      ]
    },
    {
      "cell_type": "markdown",
      "id": "a4293f8a-75e5-4217-accc-e5157ae15bf2",
      "metadata": {
        "id": "a4293f8a-75e5-4217-accc-e5157ae15bf2"
      },
      "source": [
        "## Ejercio 4.4.1"
      ]
    },
    {
      "cell_type": "code",
      "execution_count": 16,
      "id": "1dcb1fae-8e45-4613-9150-c0322ea1b25b",
      "metadata": {
        "colab": {
          "base_uri": "https://localhost:8080/"
        },
        "id": "1dcb1fae-8e45-4613-9150-c0322ea1b25b",
        "outputId": "9e5c89ab-56d0-4d9a-bb25-45bbc0dfe3cb"
      },
      "outputs": [
        {
          "output_type": "stream",
          "name": "stdout",
          "text": [
            "¿U1 es unitaria? True\n",
            "¿El producto de U1 y U2 es unitario? True\n"
          ]
        }
      ],
      "source": [
        "import numpy as np\n",
        "\n",
        "\n",
        "U1 = np.array([[0, 1], [1, 0]])\n",
        "U2 = np.array([[np.sqrt(2)/2, np.sqrt(2)/2], [np.sqrt(2)/2, -np.sqrt(2)/2]])\n",
        "\n",
        "identity = np.identity(U1.shape[0])\n",
        "unitary_check_U1 = np.allclose(np.dot(U1, U1.conj().T), identity)\n",
        "\n",
        "P = np.dot(U1, U2)\n",
        "\n",
        "unitary_check_P = np.allclose(np.dot(P, P.conj().T), identity)\n",
        "\n",
        "print(\"¿U1 es unitaria?\", unitary_check_U1)\n",
        "print(\"¿El producto de U1 y U2 es unitario?\", unitary_check_P)"
      ]
    },
    {
      "cell_type": "markdown",
      "id": "451b14c2-a2b1-4631-8068-01e865c0f0fe",
      "metadata": {
        "id": "451b14c2-a2b1-4631-8068-01e865c0f0fe"
      },
      "source": [
        "## Ejercicio 4.4.2"
      ]
    },
    {
      "cell_type": "code",
      "execution_count": 17,
      "id": "15a04ab5-fb14-474c-96ac-d4f1313a641b",
      "metadata": {
        "colab": {
          "base_uri": "https://localhost:8080/"
        },
        "id": "15a04ab5-fb14-474c-96ac-d4f1313a641b",
        "outputId": "b8cd0eac-6226-4b62-9473-3b30c724ea86"
      },
      "outputs": [
        {
          "output_type": "stream",
          "name": "stdout",
          "text": [
            "Estado después de tres pasos de tiempo: [0.         0.70710678 0.70710678 0.        ]\n",
            "Probabilidad de encontrar la pelota cuántica en la posición 3: 0.5000000000000002\n"
          ]
        }
      ],
      "source": [
        "import numpy as np\n",
        "\n",
        "A = np.array([[0, np.sqrt(1/2), np.sqrt(1/2), 0],\n",
        "              [np.sqrt(1/2), 0, 0, np.sqrt(1/2)],\n",
        "              [np.sqrt(1/2), 0, 0, -np.sqrt(1/2)],\n",
        "              [0, np.sqrt(1/2), -np.sqrt(1/2), 0]])\n",
        "\n",
        "state = np.array([1, 0, 0, 0])\n",
        "state_after_one_step = np.dot(A, state)\n",
        "state_after_two_steps = np.dot(A, state_after_one_step)\n",
        "state_after_three_steps = np.dot(A, state_after_two_steps)\n",
        "probability_at_position_3 = np.abs(state_after_three_steps[2])**2\n",
        "print(\"Estado después de tres pasos de tiempo:\", state_after_three_steps)\n",
        "print(\"Probabilidad de encontrar la pelota cuántica en la posición 3:\", probability_at_position_3)"
      ]
    },
    {
      "cell_type": "markdown",
      "id": "2c5f634b-8b7a-4245-8666-f629289be2dc",
      "metadata": {
        "id": "2c5f634b-8b7a-4245-8666-f629289be2dc"
      },
      "source": [
        "## Ejercicio 4.3.1"
      ]
    },
    {
      "cell_type": "code",
      "execution_count": 18,
      "id": "a08d62d1-8bf3-4c95-bdbc-7e1386ee05ed",
      "metadata": {
        "colab": {
          "base_uri": "https://localhost:8080/"
        },
        "id": "a08d62d1-8bf3-4c95-bdbc-7e1386ee05ed",
        "outputId": "34f0c0d3-1119-4ba5-e373-816e453c28d4"
      },
      "outputs": [
        {
          "output_type": "stream",
          "name": "stdout",
          "text": [
            "Estado resultante después de aplicar Sx: [0.  0.5]\n",
            "Probabilidad de que el estado resultante sea 'spin up': 0.0\n"
          ]
        }
      ],
      "source": [
        "import numpy as np\n",
        "Sx = 0.5 * np.array([[0, 1], [1, 0]])\n",
        "Sy = 0.5 * np.array([[0, -1j], [1j, 0]])\n",
        "Sz = 0.5 * np.array([[1, 0], [0, -1]])\n",
        "initial_state = np.array([1, 0])\n",
        "resultant_state = np.dot(Sx, initial_state)\n",
        "resultant_state_in_Sz_basis = np.dot(np.conj(np.transpose(Sz)), resultant_state)\n",
        "probability_spin_up = np.abs(resultant_state_in_Sz_basis[0])**2\n",
        "print(\"Estado resultante después de aplicar Sx:\", resultant_state)\n",
        "print(\"Probabilidad de que el estado resultante sea 'spin up':\", probability_spin_up)"
      ]
    },
    {
      "cell_type": "markdown",
      "id": "b3a422d1-e7e4-4465-be28-edc16b7c8ed6",
      "metadata": {
        "id": "b3a422d1-e7e4-4465-be28-edc16b7c8ed6"
      },
      "source": [
        "## Ejercicio 4.3.1"
      ]
    },
    {
      "cell_type": "code",
      "execution_count": 19,
      "id": "9a0ac7ec-c8ad-4706-a72b-fd5b7c50ac91",
      "metadata": {
        "colab": {
          "base_uri": "https://localhost:8080/",
          "height": 472
        },
        "id": "9a0ac7ec-c8ad-4706-a72b-fd5b7c50ac91",
        "outputId": "55672fbb-233e-471c-d7e4-989bd696bd08"
      },
      "outputs": [
        {
          "output_type": "display_data",
          "data": {
            "text/plain": [
              "<Figure size 640x480 with 1 Axes>"
            ],
            "image/png": "[encoded data removed]"
          },
          "metadata": {}
        }
      ],
      "source": [
        "import numpy as np\n",
        "import matplotlib.pyplot as plt\n",
        "\n",
        "Sx = 0.5 * np.array([[0, 1], [1, 0]])\n",
        "Sy = 0.5 * np.array([[0, -1j], [1j, 0]])\n",
        "Sz = 0.5 * np.array([[1, 0], [0, -1]])\n",
        "initial_state = np.array([1, 0])\n",
        "resultant_state = np.dot(Sx, initial_state)\n",
        "resultant_state_in_Sz_basis = np.dot(np.conj(np.transpose(Sz)), resultant_state)\n",
        "probability_spin_up = np.abs(resultant_state_in_Sz_basis[0])**2\n",
        "probability_spin_down = np.abs(resultant_state_in_Sz_basis[1])**2\n",
        "\n",
        "# Dibujar la distribución de probabilidad de los autovalores\n",
        "eigenvalues = [-0.5, 0.5]  # Los autovalores de Sz son -1/2 y 1/2\n",
        "probabilities = [probability_spin_down, probability_spin_up]\n",
        "plt.bar(eigenvalues, probabilities, color=['blue', 'red'])\n",
        "plt.xlabel('Eigenvalues')\n",
        "plt.ylabel('Probability')\n",
        "plt.title('Probability Distribution of Eigenvalues')\n",
        "plt.xticks(eigenvalues)\n",
        "plt.show()"
      ]
    },
    {
      "cell_type": "code",
      "execution_count": 19,
      "id": "a778022a-9ff6-4683-98b1-b2d120a6f203",
      "metadata": {
        "id": "a778022a-9ff6-4683-98b1-b2d120a6f203"
      },
      "outputs": [],
      "source": []
    }
  ],
  "metadata": {
    "kernelspec": {
      "display_name": "Python 3 (ipykernel)",
      "language": "python",
      "name": "python3"
    },
    "language_info": {
      "codemirror_mode": {
        "name": "ipython",
        "version": 3
      },
      "file_extension": ".py",
      "mimetype": "text/x-python",
      "name": "python",
      "nbconvert_exporter": "python",
      "pygments_lexer": "ipython3",
      "version": "3.11.5"
    },
    "colab": {
      "provenance": []
    }
  },
  "nbformat": 4,
  "nbformat_minor": 5
}