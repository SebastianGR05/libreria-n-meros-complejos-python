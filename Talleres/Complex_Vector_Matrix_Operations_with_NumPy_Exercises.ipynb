{
  "cells": [
    {
      "cell_type": "markdown",
      "id": "a07bd584",
      "metadata": {
        "id": "a07bd584"
      },
      "source": [
        "# Theory of Complex Vector Spaces\n",
        "Complex vector spaces extend the idea of real vector spaces by allowing vectors to have complex numbers as their components. In these spaces, vectors can be added together and multiplied by complex scalars to produce new vectors. Key operations in complex vector spaces include vector addition, scalar multiplication, vector negation, and complex conjugation."
      ]
    },
    {
      "cell_type": "markdown",
      "id": "f43fc972-23ab-4d81-aa26-c51325dac8f3",
      "metadata": {
        "id": "f43fc972-23ab-4d81-aa26-c51325dac8f3"
      },
      "source": [
        "# Creating complex column vectors"
      ]
    },
    {
      "cell_type": "code",
      "execution_count": 6,
      "id": "029f08ba-1cdc-4928-9631-f62c51ab7aa5",
      "metadata": {
        "colab": {
          "base_uri": "https://localhost:8080/"
        },
        "id": "029f08ba-1cdc-4928-9631-f62c51ab7aa5",
        "outputId": "b9e2fd24-4637-4f64-a0c7-7b27afb0a278"
      },
      "outputs": [
        {
          "output_type": "stream",
          "name": "stdout",
          "text": [
            "Matrix:\n",
            " [[2 3]\n",
            " [1 4]]\n",
            "\n",
            "Vector:\n",
            " [5 6]\n",
            "\n",
            "Result of multiplication:\n",
            " [28 29]\n"
          ]
        }
      ],
      "source": [
        "import numpy as np\n",
        "\n",
        "# Define a 2x2 square matrix\n",
        "matrix = np.array([[2, 3],\n",
        "                   [1, 4]])\n",
        "\n",
        "# Define a vector of size 2\n",
        "vector = np.array([5, 6])\n",
        "\n",
        "# Multiply the matrix by the vector\n",
        "result = np.dot(matrix, vector)\n",
        "\n",
        "# Display the result\n",
        "print(\"Matrix:\\n\", matrix)\n",
        "print(\"\\nVector:\\n\", vector)\n",
        "print(\"\\nResult of multiplication:\\n\", result)\n"
      ]
    },
    {
      "cell_type": "markdown",
      "id": "975c2284",
      "metadata": {
        "id": "975c2284"
      },
      "source": [
        "## Manipulating Complex Column Vectors using NumPy\n",
        "Here we demonstrate how to manipulate complex column vectors using NumPy, including operations like sum, negation, multiplication by a scalar, transpose, adjunct, and conjugate."
      ]
    },
    {
      "cell_type": "code",
      "execution_count": 7,
      "id": "e8058abe",
      "metadata": {
        "colab": {
          "base_uri": "https://localhost:8080/"
        },
        "id": "e8058abe",
        "outputId": "9166f687-4781-4eee-c662-b4ba968de319"
      },
      "outputs": [
        {
          "output_type": "execute_result",
          "data": {
            "text/plain": [
              "(array([[3.+2.j],\n",
              "        [8.-2.j],\n",
              "        [5.-3.j]]),\n",
              " array([[-2.-3.j],\n",
              "        [-5.+4.j],\n",
              "        [-1.-1.j]]),\n",
              " array([[ 1.+8.j],\n",
              "        [14.-3.j],\n",
              "        [ 1.+3.j]]),\n",
              " array([[2.+3.j, 5.-4.j, 1.+1.j]]),\n",
              " array([[2.-3.j, 5.+4.j, 1.-1.j]]),\n",
              " array([[2.-3.j],\n",
              "        [5.+4.j],\n",
              "        [1.-1.j]]))"
            ]
          },
          "metadata": {},
          "execution_count": 7
        }
      ],
      "source": [
        "\n",
        "import numpy as np\n",
        "\n",
        "# Define two complex column vectors\n",
        "v1 = np.array([[2+3j], [5-4j], [1+1j]])\n",
        "v2 = np.array([[1-1j], [3+2j], [4-4j]])\n",
        "\n",
        "# Sum\n",
        "sum_v = v1 + v2\n",
        "\n",
        "# Negation\n",
        "neg_v1 = -v1\n",
        "\n",
        "# Multiplication by a scalar\n",
        "scalar = 2 + 1j\n",
        "mult_v1 = v1 * scalar\n",
        "\n",
        "# Transpose\n",
        "transpose_v1 = v1.T\n",
        "\n",
        "# Adjunct (Conjugate transpose)\n",
        "adjunct_v1 = v1.T.conj()\n",
        "\n",
        "# Conjugate\n",
        "conjugate_v1 = np.conjugate(v1)\n",
        "\n",
        "(sum_v, neg_v1, mult_v1, transpose_v1, adjunct_v1, conjugate_v1)\n"
      ]
    },
    {
      "cell_type": "markdown",
      "id": "995ae5fc",
      "metadata": {
        "id": "995ae5fc"
      },
      "source": [
        "# Theory of Vector Spaces using Matrices\n",
        "In the context of matrices, vector spaces can be defined where each vector is a matrix of a particular size. Operations on these matrix-vector spaces include matrix addition, scalar multiplication, matrix negation, transpose, adjunct, and conjugate. In this section, we focus on square matrices of size 3x3."
      ]
    },
    {
      "cell_type": "markdown",
      "id": "9385c1f0",
      "metadata": {
        "id": "9385c1f0"
      },
      "source": [
        "## Manipulating Square Matrices using NumPy\n",
        "Examples of how to manipulate 3x3 square matrices using NumPy, showing operations such as sum, negation, multiplication by a scalar, conjugate, transpose, and adjunct."
      ]
    },
    {
      "cell_type": "code",
      "execution_count": 8,
      "id": "b81ecc57",
      "metadata": {
        "colab": {
          "base_uri": "https://localhost:8080/"
        },
        "id": "b81ecc57",
        "outputId": "aabec776-6ef1-4000-bc75-f683166c4aac"
      },
      "outputs": [
        {
          "output_type": "execute_result",
          "data": {
            "text/plain": [
              "(array([[3.+3.j, 6.+0.j, 3.-3.j],\n",
              "        [1.+1.j, 2.+5.j, 6.-2.j],\n",
              "        [7.+3.j, 8.-2.j, 5.+3.j]]),\n",
              " array([[-2.-3.j, -4.+1.j, -0.-0.j],\n",
              "        [-1.-1.j, -3.-3.j, -5.-0.j],\n",
              "        [-4.-0.j, -6.+2.j, -1.+1.j]]),\n",
              " array([[-0.5+2.5j,  2.5+1.5j,  0. +0.j ],\n",
              "        [ 0. +1.j ,  0. +3.j ,  2.5+2.5j],\n",
              "        [ 2. +2.j ,  4. +2.j ,  1. +0.j ]]),\n",
              " array([[2.-3.j, 4.+1.j, 0.-0.j],\n",
              "        [1.-1.j, 3.-3.j, 5.-0.j],\n",
              "        [4.-0.j, 6.+2.j, 1.+1.j]]),\n",
              " array([[2.+3.j, 1.+1.j, 4.+0.j],\n",
              "        [4.-1.j, 3.+3.j, 6.-2.j],\n",
              "        [0.+0.j, 5.+0.j, 1.-1.j]]),\n",
              " array([[2.-3.j, 1.-1.j, 4.-0.j],\n",
              "        [4.+1.j, 3.-3.j, 6.+2.j],\n",
              "        [0.-0.j, 5.-0.j, 1.+1.j]]))"
            ]
          },
          "metadata": {},
          "execution_count": 8
        }
      ],
      "source": [
        "\n",
        "# Define two 3x3 complex matrices\n",
        "m1 = np.array([[2+3j, 4-1j, 0],\n",
        "               [1+1j, 3+3j, 5],\n",
        "               [4, 6-2j, 1-1j]])\n",
        "m2 = np.array([[1, 2+1j, 3-3j],\n",
        "               [0, -1+2j, 1-2j],\n",
        "               [3+3j, 2, 4+4j]])\n",
        "\n",
        "# Sum\n",
        "sum_m = m1 + m2\n",
        "\n",
        "# Negation\n",
        "neg_m1 = -m1\n",
        "\n",
        "# Multiplication by a scalar\n",
        "scalar = 0.5 + 0.5j\n",
        "mult_m1 = m1 * scalar\n",
        "\n",
        "# Conjugate\n",
        "conjugate_m1 = np.conjugate(m1)\n",
        "\n",
        "# Transpose\n",
        "transpose_m1 = m1.T\n",
        "\n",
        "# Adjunct (Conjugate transpose)\n",
        "adjunct_m1 = m1.T.conj()\n",
        "\n",
        "(sum_m, neg_m1, mult_m1, conjugate_m1, transpose_m1, adjunct_m1)\n"
      ]
    },
    {
      "cell_type": "markdown",
      "id": "ed909545-8a5c-4cca-85f7-48688b597598",
      "metadata": {
        "id": "ed909545-8a5c-4cca-85f7-48688b597598"
      },
      "source": [
        "## Checking the Dimension of a Matrix\n",
        "We can check the dimension of a matrix using the `.shape` attribute."
      ]
    },
    {
      "cell_type": "code",
      "execution_count": 9,
      "id": "0930dc10-af6d-427f-bbcb-75bfaf051db5",
      "metadata": {
        "colab": {
          "base_uri": "https://localhost:8080/"
        },
        "id": "0930dc10-af6d-427f-bbcb-75bfaf051db5",
        "outputId": "b6cc47e9-a30b-4aed-e1fb-c084396bed71"
      },
      "outputs": [
        {
          "output_type": "execute_result",
          "data": {
            "text/plain": [
              "(3, 3)"
            ]
          },
          "metadata": {},
          "execution_count": 9
        }
      ],
      "source": [
        "# Checking the dimension of matrix1\n",
        "m1.shape"
      ]
    },
    {
      "cell_type": "markdown",
      "id": "b3fe896b",
      "metadata": {
        "id": "b3fe896b"
      },
      "source": [
        "## Action of a Matrix on a Vector\n",
        "Finally, examples of how to use Python to multiply a 3x3 square matrix by a 3x1 column vector."
      ]
    },
    {
      "cell_type": "code",
      "execution_count": 10,
      "id": "e514d047",
      "metadata": {
        "colab": {
          "base_uri": "https://localhost:8080/"
        },
        "id": "e514d047",
        "outputId": "861921ca-227e-4f37-ef66-7541a7a20da2"
      },
      "outputs": [
        {
          "output_type": "execute_result",
          "data": {
            "text/plain": [
              "array([[11. -9.j],\n",
              "       [31.+13.j],\n",
              "       [32.-22.j]])"
            ]
          },
          "metadata": {},
          "execution_count": 10
        }
      ],
      "source": [
        "\n",
        "# Multiplying a 3x3 matrix by a 3x1 vector\n",
        "result = np.dot(m1, v1)\n",
        "result\n"
      ]
    },
    {
      "cell_type": "markdown",
      "id": "5adf9d8a-af43-4074-ab1a-3cabdc4accff",
      "metadata": {
        "id": "5adf9d8a-af43-4074-ab1a-3cabdc4accff"
      },
      "source": [
        "# Exercises on Complex Vectors and Matrices with Concrete Cases\n",
        "\n",
        "This set of exercises focuses on operations with complex column vectors and complex square matrices, including concrete cases with vectors and matrices written in LaTeX format.\n",
        "\n",
        "## Complex Column Vector Operations\n",
        "\n",
        "### Exercise 1: Sum of Two Complex Vectors\n",
        "Given two complex vectors\n",
        "$ v1 = \\begin{bmatrix} 1 + 2i \\\\ 3 - i \\end{bmatrix} $\n",
        "and\n",
        "$ v2 = \\begin{bmatrix} 2 - i \\\\ 4 + 2i \\end{bmatrix} $,\n",
        "find their sum.\n",
        "\n",
        "### Exercise 2: Negation of a Complex Vector\n",
        "Given a complex vector\n",
        "$ v = \\begin{bmatrix} 2 + 3i \\\\ 1 - 2i \\end{bmatrix} $,\n",
        "find its negation.\n",
        "\n",
        "### Exercise 3: Multiplication of a Complex Vector by a Scalar\n",
        "Multiply the complex vector\n",
        "$ v = \\begin{bmatrix} 1 - i \\\\ 2 + 2i \\end{bmatrix} $\n",
        "by the complex scalar $$ 3 + i $$.\n",
        "\n",
        "### Exercise 4: Transpose of a Complex Vector\n",
        "Find the transpose of the complex vector\n",
        "$ v = \\begin{bmatrix} 2 - i \\\\ 3 + 4i \\end{bmatrix} $.\n",
        "\n",
        "### Exercise 5: Conjugate of a Complex Vector\n",
        "Compute the conjugate of the complex vector\n",
        "$ v = \\begin{bmatrix} 1 + i \\\\ 2 - 3i \\end{bmatrix} $.\n",
        "\n",
        "### Exercise 6: Adjunct (Conjugate Transpose) of a Complex Vector\n",
        "Find the adjunct (or conjugate transpose) of the complex vector\n",
        "$ v = \\begin{bmatrix} 1 - 2i \\\\ 3 + i \\end{bmatrix} $.\n",
        "\n",
        "## Complex Square Matrix Operations\n",
        "\n",
        "### Exercise 7: Sum of Two Complex Matrices\n",
        "Given two complex matrices\n",
        "$ m1 = \\begin{bmatrix} 1 + i & 2 - i \\\\ 3 + 2i & 4 \\end{bmatrix} $\n",
        "and\n",
        "$ m2 = \\begin{bmatrix} 2 - 3i & 1 \\\\ i & 2 + 2i \\end{bmatrix} $,\n",
        "calculate their sum.\n",
        "\n",
        "### Exercise 8: Negation of a Complex Matrix\n",
        "Find the negation of the complex matrix\n",
        "$ m = \\begin{bmatrix} 2 + i & 3 \\\\ 1 - i & 2 + 2i \\end{bmatrix} $.\n",
        "\n",
        "### Exercise 9: Multiplication of a Complex Matrix by a Scalar\n",
        "Multiply the complex matrix\n",
        "$ m = \\begin{bmatrix} 1 - i & 2 \\\\ 3 + i & 4 - 2i \\end{bmatrix} $\n",
        "by the complex scalar $$ 2 + 3i $$.\n",
        "\n",
        "### Exercise 10: Conjugate of a Complex Matrix\n",
        "Compute the conjugate of the complex matrix\n",
        "$ m = \\begin{bmatrix} 1 + i & 2 \\\\ 3 - i & 4 + 2i \\end{bmatrix} $.\n",
        "\n",
        "### Exercise 11: Transpose of a Complex Matrix\n",
        "Find the transpose of the complex matrix\n",
        "$ m = \\begin{bmatrix} 1 - i & 2 + 2i \\\\ 3 & 4 - i \\end{bmatrix} $.\n",
        "\n",
        "### Exercise 12: Adjunct (Conjugate Transpose) of a Complex Matrix\n",
        "Calculate the adjunct (or conjugate transpose) of the complex matrix\n",
        "$ m = \\begin{bmatrix} 1 + 2i & 3 - i \\\\ 4 & 5 + i \\end{bmatrix} $.\n",
        "\n",
        "### Exercise 13: Checking the Dimensions of a Matrix\n",
        "Determine the dimensions of the complex matrix\n",
        "$ m = \\begin{bmatrix} 1 - i & 2 \\\\ 3 + 2i & 4 - i \\end{bmatrix} $.\n",
        "\n",
        "## Multiplication of Matrices and Vectors\n",
        "\n",
        "### Exercise 14: Multiplying a Complex Square Matrix by a Complex Column Vector\n",
        "Multiply the complex square matrix\n",
        "$ m = \\begin{bmatrix} 1 + i & 2 - i \\\\ 3 & 4 + i \\end{bmatrix} $\n",
        "by the complex column vector\n",
        "$ v = \\begin{bmatrix} 2 - i \\\\ 1 + 3i \\end{bmatrix} $.\n",
        "\n",
        "## Instructions\n",
        "For each exercise, ensure to display both the input (vectors/matrices) and the result of the operation.Use NumPy for these exercises to practice handling complex numbers and matrix operations in Python.\n"
      ]
    },
    {
      "cell_type": "markdown",
      "source": [
        "# Exercises 1-6"
      ],
      "metadata": {
        "id": "JT80Li0E5-I8"
      },
      "id": "JT80Li0E5-I8"
    },
    {
      "cell_type": "code",
      "execution_count": 11,
      "id": "12949876-03e8-4f25-b566-517ed35ac1e1",
      "metadata": {
        "colab": {
          "base_uri": "https://localhost:8080/"
        },
        "id": "12949876-03e8-4f25-b566-517ed35ac1e1",
        "outputId": "aa1893e3-0dd1-40d6-bbf8-1e1ef7479fd3"
      },
      "outputs": [
        {
          "output_type": "stream",
          "name": "stdout",
          "text": [
            "=== EJERCICIOS DE VECTORES COMPLEJOS ===\n",
            "\n",
            "--- Ejercicio 1: Suma de Vectores ---\n",
            "v1 =\n",
            "[[1.+2.j]\n",
            " [3.-1.j]]\n",
            "v2 =\n",
            "[[2.-1.j]\n",
            " [4.+2.j]]\n",
            "v1 + v2 =\n",
            "[[3.+1.j]\n",
            " [7.+1.j]]\n",
            "\n",
            "--- Ejercicio 2: Negación de Vector ---\n",
            "Vector original:\n",
            "[[2.+3.j]\n",
            " [1.-2.j]]\n",
            "Vector negado:\n",
            "[[-2.-3.j]\n",
            " [-1.+2.j]]\n",
            "\n",
            "--- Ejercicio 3: Multiplicación por Escalar ---\n",
            "Vector:\n",
            "[[1.-1.j]\n",
            " [2.+2.j]]\n",
            "Escalar: (3+1j)\n",
            "Vector × Escalar:\n",
            "[[4.-2.j]\n",
            " [4.+8.j]]\n",
            "\n",
            "--- Ejercicio 4: Transpuesta ---\n",
            "Vector original:\n",
            "[[2.-1.j]\n",
            " [3.+4.j]]\n",
            "Transpuesta:\n",
            "[[2.-1.j 3.+4.j]]\n",
            "\n",
            "--- Ejercicio 5: Conjugado ---\n",
            "Vector original:\n",
            "[[1.+1.j]\n",
            " [2.-3.j]]\n",
            "Conjugado:\n",
            "[[1.-1.j]\n",
            " [2.+3.j]]\n",
            "\n",
            "--- Ejercicio 6: Adjunta (Transpuesta Conjugada) ---\n",
            "Vector original:\n",
            "[[1.-2.j]\n",
            " [3.+1.j]]\n",
            "Adjunta (v†):\n",
            "[[1.+2.j 3.-1.j]]\n"
          ]
        }
      ],
      "source": [
        "import numpy as np\n",
        "\n",
        "print(\"=== EJERCICIOS DE VECTORES COMPLEJOS ===\")\n",
        "\n",
        "# Ejercicio 1: Suma de dos vectores complejos\n",
        "print(\"\\n--- Ejercicio 1: Suma de Vectores ---\")\n",
        "v1 = np.array([[1 + 2j], [3 - 1j]])\n",
        "v2 = np.array([[2 - 1j], [4 + 2j]])\n",
        "suma_v = v1 + v2\n",
        "\n",
        "print(\"v1 =\")\n",
        "print(v1)\n",
        "print(\"v2 =\")\n",
        "print(v2)\n",
        "print(\"v1 + v2 =\")\n",
        "print(suma_v)\n",
        "\n",
        "# Ejercicio 2: Negación de un vector complejo\n",
        "print(\"\\n--- Ejercicio 2: Negación de Vector ---\")\n",
        "v = np.array([[2 + 3j], [1 - 2j]])\n",
        "neg_v = -v\n",
        "\n",
        "print(\"Vector original:\")\n",
        "print(v)\n",
        "print(\"Vector negado:\")\n",
        "print(neg_v)\n",
        "\n",
        "# Ejercicio 3: Multiplicación por escalar\n",
        "print(\"\\n--- Ejercicio 3: Multiplicación por Escalar ---\")\n",
        "v = np.array([[1 - 1j], [2 + 2j]])\n",
        "scalar = 3 + 1j\n",
        "mult_v = v * scalar\n",
        "\n",
        "print(\"Vector:\")\n",
        "print(v)\n",
        "print(f\"Escalar: {scalar}\")\n",
        "print(\"Vector × Escalar:\")\n",
        "print(mult_v)\n",
        "\n",
        "# Ejercicio 4: Transpuesta de un vector\n",
        "print(\"\\n--- Ejercicio 4: Transpuesta ---\")\n",
        "v = np.array([[2 - 1j], [3 + 4j]])\n",
        "transpose_v = v.T\n",
        "\n",
        "print(\"Vector original:\")\n",
        "print(v)\n",
        "print(\"Transpuesta:\")\n",
        "print(transpose_v)\n",
        "\n",
        "# Ejercicio 5: Conjugado de un vector\n",
        "print(\"\\n--- Ejercicio 5: Conjugado ---\")\n",
        "v = np.array([[1 + 1j], [2 - 3j]])\n",
        "conjugate_v = np.conjugate(v)\n",
        "\n",
        "print(\"Vector original:\")\n",
        "print(v)\n",
        "print(\"Conjugado:\")\n",
        "print(conjugate_v)\n",
        "\n",
        "# Ejercicio 6: Adjunta (transpuesta conjugada)\n",
        "print(\"\\n--- Ejercicio 6: Adjunta (Transpuesta Conjugada) ---\")\n",
        "v = np.array([[1 - 2j], [3 + 1j]])\n",
        "adjunct_v = v.T.conj()\n",
        "\n",
        "print(\"Vector original:\")\n",
        "print(v)\n",
        "print(\"Adjunta (v†):\")\n",
        "print(adjunct_v)"
      ]
    },
    {
      "cell_type": "markdown",
      "source": [
        "# Exercise 7-13"
      ],
      "metadata": {
        "id": "w6vbNZrf6EAb"
      },
      "id": "w6vbNZrf6EAb"
    },
    {
      "cell_type": "code",
      "source": [
        "print(\"\\n=== EJERCICIOS DE MATRICES COMPLEJAS ===\")\n",
        "\n",
        "# Ejercicio 7: Suma de dos matrices complejas\n",
        "print(\"\\n--- Ejercicio 7: Suma de Matrices ---\")\n",
        "m1 = np.array([[1 + 1j, 2 - 1j],\n",
        "               [3 + 2j, 4]])\n",
        "m2 = np.array([[2 - 3j, 1],\n",
        "               [1j, 2 + 2j]])\n",
        "suma_m = m1 + m2\n",
        "\n",
        "print(\"Matriz m1:\")\n",
        "print(m1)\n",
        "print(\"Matriz m2:\")\n",
        "print(m2)\n",
        "print(\"m1 + m2:\")\n",
        "print(suma_m)\n",
        "\n",
        "# Ejercicio 8: Negación de una matriz\n",
        "print(\"\\n--- Ejercicio 8: Negación de Matriz ---\")\n",
        "m = np.array([[2 + 1j, 3],\n",
        "              [1 - 1j, 2 + 2j]])\n",
        "neg_m = -m\n",
        "\n",
        "print(\"Matriz original:\")\n",
        "print(m)\n",
        "print(\"Matriz negada:\")\n",
        "print(neg_m)\n",
        "\n",
        "# Ejercicio 9: Multiplicación por escalar\n",
        "print(\"\\n--- Ejercicio 9: Multiplicación por Escalar ---\")\n",
        "m = np.array([[1 - 1j, 2],\n",
        "              [3 + 1j, 4 - 2j]])\n",
        "scalar = 2 + 3j\n",
        "mult_m = m * scalar\n",
        "\n",
        "print(\"Matriz original:\")\n",
        "print(m)\n",
        "print(f\"Escalar: {scalar}\")\n",
        "print(\"Matriz × Escalar:\")\n",
        "print(mult_m)\n",
        "\n",
        "# Ejercicio 10: Conjugado de una matriz\n",
        "print(\"\\n--- Ejercicio 10: Conjugado de Matriz ---\")\n",
        "m = np.array([[1 + 1j, 2],\n",
        "              [3 - 1j, 4 + 2j]])\n",
        "conjugate_m = np.conjugate(m)\n",
        "\n",
        "print(\"Matriz original:\")\n",
        "print(m)\n",
        "print(\"Conjugado:\")\n",
        "print(conjugate_m)\n",
        "\n",
        "# Ejercicio 11: Transpuesta de una matriz\n",
        "print(\"\\n--- Ejercicio 11: Transpuesta de Matriz ---\")\n",
        "m = np.array([[1 - 1j, 2 + 2j],\n",
        "              [3, 4 - 1j]])\n",
        "transpose_m = m.T\n",
        "\n",
        "print(\"Matriz original:\")\n",
        "print(m)\n",
        "print(\"Transpuesta:\")\n",
        "print(transpose_m)\n",
        "\n",
        "# Ejercicio 12: Adjunta (transpuesta conjugada)\n",
        "print(\"\\n--- Ejercicio 12: Adjunta de Matriz ---\")\n",
        "m = np.array([[1 + 2j, 3 - 1j],\n",
        "              [4, 5 + 1j]])\n",
        "adjunct_m = m.T.conj()\n",
        "\n",
        "print(\"Matriz original:\")\n",
        "print(m)\n",
        "print(\"Adjunta (m†):\")\n",
        "print(adjunct_m)\n",
        "\n",
        "# Ejercicio 13: Dimensiones de una matriz\n",
        "print(\"\\n--- Ejercicio 13: Dimensiones de Matriz ---\")\n",
        "m = np.array([[1 - 1j, 2],\n",
        "              [3 + 2j, 4 - 1j]])\n",
        "\n",
        "print(\"Matriz:\")\n",
        "print(m)\n",
        "print(f\"Dimensiones: {m.shape}\")\n",
        "print(f\"Número de filas: {m.shape[0]}\")\n",
        "print(f\"Número de columnas: {m.shape[1]}\")"
      ],
      "metadata": {
        "colab": {
          "base_uri": "https://localhost:8080/"
        },
        "id": "djIhcTlL6FSW",
        "outputId": "4b5c0bb1-8da2-4554-90d2-86b7e19a0af5"
      },
      "id": "djIhcTlL6FSW",
      "execution_count": 12,
      "outputs": [
        {
          "output_type": "stream",
          "name": "stdout",
          "text": [
            "\n",
            "=== EJERCICIOS DE MATRICES COMPLEJAS ===\n",
            "\n",
            "--- Ejercicio 7: Suma de Matrices ---\n",
            "Matriz m1:\n",
            "[[1.+1.j 2.-1.j]\n",
            " [3.+2.j 4.+0.j]]\n",
            "Matriz m2:\n",
            "[[2.-3.j 1.+0.j]\n",
            " [0.+1.j 2.+2.j]]\n",
            "m1 + m2:\n",
            "[[3.-2.j 3.-1.j]\n",
            " [3.+3.j 6.+2.j]]\n",
            "\n",
            "--- Ejercicio 8: Negación de Matriz ---\n",
            "Matriz original:\n",
            "[[2.+1.j 3.+0.j]\n",
            " [1.-1.j 2.+2.j]]\n",
            "Matriz negada:\n",
            "[[-2.-1.j -3.-0.j]\n",
            " [-1.+1.j -2.-2.j]]\n",
            "\n",
            "--- Ejercicio 9: Multiplicación por Escalar ---\n",
            "Matriz original:\n",
            "[[1.-1.j 2.+0.j]\n",
            " [3.+1.j 4.-2.j]]\n",
            "Escalar: (2+3j)\n",
            "Matriz × Escalar:\n",
            "[[ 5. +1.j  4. +6.j]\n",
            " [ 3.+11.j 14. +8.j]]\n",
            "\n",
            "--- Ejercicio 10: Conjugado de Matriz ---\n",
            "Matriz original:\n",
            "[[1.+1.j 2.+0.j]\n",
            " [3.-1.j 4.+2.j]]\n",
            "Conjugado:\n",
            "[[1.-1.j 2.-0.j]\n",
            " [3.+1.j 4.-2.j]]\n",
            "\n",
            "--- Ejercicio 11: Transpuesta de Matriz ---\n",
            "Matriz original:\n",
            "[[1.-1.j 2.+2.j]\n",
            " [3.+0.j 4.-1.j]]\n",
            "Transpuesta:\n",
            "[[1.-1.j 3.+0.j]\n",
            " [2.+2.j 4.-1.j]]\n",
            "\n",
            "--- Ejercicio 12: Adjunta de Matriz ---\n",
            "Matriz original:\n",
            "[[1.+2.j 3.-1.j]\n",
            " [4.+0.j 5.+1.j]]\n",
            "Adjunta (m†):\n",
            "[[1.-2.j 4.-0.j]\n",
            " [3.+1.j 5.-1.j]]\n",
            "\n",
            "--- Ejercicio 13: Dimensiones de Matriz ---\n",
            "Matriz:\n",
            "[[1.-1.j 2.+0.j]\n",
            " [3.+2.j 4.-1.j]]\n",
            "Dimensiones: (2, 2)\n",
            "Número de filas: 2\n",
            "Número de columnas: 2\n"
          ]
        }
      ]
    },
    {
      "cell_type": "markdown",
      "source": [
        "# Exercise 14"
      ],
      "metadata": {
        "id": "1m0L0h_t6F6h"
      },
      "id": "1m0L0h_t6F6h"
    },
    {
      "cell_type": "code",
      "source": [
        "print(\"\\n=== EJERCICIO 14: MULTIPLICACIÓN MATRIZ-VECTOR ===\")\n",
        "\n",
        "# Multiplicación de matriz cuadrada por vector columna\n",
        "m = np.array([[1 + 1j, 2 - 1j],\n",
        "              [3, 4 + 1j]])\n",
        "v = np.array([[2 - 1j],\n",
        "              [1 + 3j]])\n",
        "\n",
        "resultado = np.dot(m, v)\n",
        "\n",
        "print(\"Matriz m:\")\n",
        "print(m)\n",
        "print(\"Vector v:\")\n",
        "print(v)\n",
        "print(\"Producto m × v:\")\n",
        "print(resultado)\n",
        "\n",
        "# Verificación manual del cálculo\n",
        "print(\"\\n--- Verificación Manual ---\")\n",
        "fila1 = m[0,0] * v[0,0] + m[0,1] * v[1,0]\n",
        "fila2 = m[1,0] * v[0,0] + m[1,1] * v[1,0]\n",
        "\n",
        "print(f\"Fila 1: ({m[0,0]}) × ({v[0,0]}) + ({m[0,1]}) × ({v[1,0]}) = {fila1}\")\n",
        "print(f\"Fila 2: ({m[1,0]}) × ({v[0,0]}) + ({m[1,1]}) × ({v[1,0]}) = {fila2}\")"
      ],
      "metadata": {
        "colab": {
          "base_uri": "https://localhost:8080/"
        },
        "id": "thcHQ1X_6H_8",
        "outputId": "8dd1d936-0762-437e-e5b7-8e72ac428028"
      },
      "id": "thcHQ1X_6H_8",
      "execution_count": 13,
      "outputs": [
        {
          "output_type": "stream",
          "name": "stdout",
          "text": [
            "\n",
            "=== EJERCICIO 14: MULTIPLICACIÓN MATRIZ-VECTOR ===\n",
            "Matriz m:\n",
            "[[1.+1.j 2.-1.j]\n",
            " [3.+0.j 4.+1.j]]\n",
            "Vector v:\n",
            "[[2.-1.j]\n",
            " [1.+3.j]]\n",
            "Producto m × v:\n",
            "[[8. +6.j]\n",
            " [7.+10.j]]\n",
            "\n",
            "--- Verificación Manual ---\n",
            "Fila 1: ((1+1j)) × ((2-1j)) + ((2-1j)) × ((1+3j)) = (8+6j)\n",
            "Fila 2: ((3+0j)) × ((2-1j)) + ((4+1j)) × ((1+3j)) = (7+10j)\n"
          ]
        }
      ]
    }
  ],
  "metadata": {
    "kernelspec": {
      "display_name": "Python 3",
      "language": "python",
      "name": "python3"
    },
    "language_info": {
      "codemirror_mode": {
        "name": "ipython",
        "version": 3
      },
      "file_extension": ".py",
      "mimetype": "text/x-python",
      "name": "python",
      "nbconvert_exporter": "python",
      "pygments_lexer": "ipython3",
      "version": "3.11.9"
    },
    "colab": {
      "provenance": [],
      "collapsed_sections": [
        "JT80Li0E5-I8",
        "w6vbNZrf6EAb"
      ]
    }
  },
  "nbformat": 4,
  "nbformat_minor": 5
}