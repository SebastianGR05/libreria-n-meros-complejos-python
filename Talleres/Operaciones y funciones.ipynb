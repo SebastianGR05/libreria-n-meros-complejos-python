{
  "cells": [
    {
      "cell_type": "code",
      "execution_count": 1,
      "metadata": {
        "id": "3Ny38xU8Zslf"
      },
      "outputs": [
        {
          "ename": "ModuleNotFoundError",
          "evalue": "No module named 'numpy'",
          "output_type": "error",
          "traceback": [
            "\u001b[31m---------------------------------------------------------------------------\u001b[39m",
            "\u001b[31mModuleNotFoundError\u001b[39m                       Traceback (most recent call last)",
            "\u001b[36mCell\u001b[39m\u001b[36m \u001b[39m\u001b[32mIn[1]\u001b[39m\u001b[32m, line 1\u001b[39m\n\u001b[32m----> \u001b[39m\u001b[32m1\u001b[39m \u001b[38;5;28;01mimport\u001b[39;00m\u001b[38;5;250m \u001b[39m\u001b[34;01mnumpy\u001b[39;00m\u001b[38;5;250m \u001b[39m\u001b[38;5;28;01mas\u001b[39;00m\u001b[38;5;250m \u001b[39m\u001b[34;01mnp\u001b[39;00m\n",
            "\u001b[31mModuleNotFoundError\u001b[39m: No module named 'numpy'"
          ]
        }
      ],
      "source": [
        "import numpy as np"
      ]
    },
    {
      "cell_type": "markdown",
      "metadata": {
        "id": "Rdp_WsIhZ4wD"
      },
      "source": [
        "# Operaciones con Vectores Complejos"
      ]
    },
    {
      "cell_type": "markdown",
      "metadata": {
        "id": "ZBWtJ-NiZ-t7"
      },
      "source": [
        "1. Adición de Vectores\n",
        "\n",
        "Para sumar dos vectores, simplemente usamos el operador +."
      ]
    },
    {
      "cell_type": "code",
      "execution_count": null,
      "metadata": {
        "colab": {
          "base_uri": "https://localhost:8080/"
        },
        "collapsed": true,
        "id": "VEsnzGQ8aE9l",
        "outputId": "3352ce7c-019d-42b6-8bc2-458a2baf9602"
      },
      "outputs": [
        {
          "name": "stdout",
          "output_type": "stream",
          "text": [
            "Vector 1: [1.+2.j 3.-1.j 0.+4.j]\n",
            "Vector 2: [ 2.-1.j  5.+0.j -2.+3.j]\n",
            "Suma: [ 3.+1.j  8.-1.j -2.+7.j]\n"
          ]
        }
      ],
      "source": [
        "# Definimos dos vectores complejos\n",
        "v1 = np.array([1+2j, 3-1j, 4j])\n",
        "v2 = np.array([2-1j, 5, -2+3j])\n",
        "\n",
        "# Sumamos los vectores\n",
        "suma_vectores = v1 + v2\n",
        "\n",
        "print(f\"Vector 1: {v1}\")\n",
        "print(f\"Vector 2: {v2}\")\n",
        "print(f\"Suma: {suma_vectores}\")"
      ]
    },
    {
      "cell_type": "markdown",
      "metadata": {
        "id": "WUK-R665aMbL"
      },
      "source": [
        "2. Inverso Aditivo de un Vector\n",
        "\n",
        "El inverso aditivo se obtiene simplemente negando el vector."
      ]
    },
    {
      "cell_type": "code",
      "execution_count": null,
      "metadata": {
        "id": "lVleNzu6aPvD"
      },
      "outputs": [],
      "source": [
        "# Usamos el vector v1 del ejemplo anterior\n",
        "inverso_v1 = -v1\n",
        "\n",
        "print(f\"Vector original: {v1}\")\n",
        "print(f\"Inverso aditivo: {inverso_v1}\")"
      ]
    },
    {
      "cell_type": "markdown",
      "metadata": {
        "id": "vZPg7trRaWLf"
      },
      "source": [
        "3. Multiplicación de un Escalar por un Vector\n",
        "\n",
        "Multiplicamos el escalar por el vector usando el operador *."
      ]
    },
    {
      "cell_type": "code",
      "execution_count": null,
      "metadata": {
        "id": "QPBeJxqXacd0"
      },
      "outputs": [],
      "source": [
        "# Definimos un escalar (puede ser complejo)\n",
        "escalar = 2 + 3j\n",
        "vector = np.array([1+2j, 3-1j])\n",
        "\n",
        "# Realizamos la multiplicación\n",
        "resultado = escalar * vector\n",
        "\n",
        "print(f\"Escalar: {escalar}\")\n",
        "print(f\"Vector original: {vector}\")\n",
        "print(f\"Multiplicación: {resultado}\")"
      ]
    },
    {
      "cell_type": "markdown",
      "metadata": {
        "id": "fqV-8U9vaeXa"
      },
      "source": [
        "# Operaciones con Matrices Complejas"
      ]
    },
    {
      "cell_type": "markdown",
      "metadata": {
        "id": "2eRVPo_gafoc"
      },
      "source": [
        "4. Adición de Matrices\n",
        "\n",
        "Al igual que con los vectores, usamos el operador +."
      ]
    },
    {
      "cell_type": "code",
      "execution_count": null,
      "metadata": {
        "id": "40aEilaQamc9"
      },
      "outputs": [],
      "source": [
        "# Definimos dos matrices complejas\n",
        "M1 = np.array([[1+1j, 2-3j], [4, 5+2j]])\n",
        "M2 = np.array([[2-1j, 3], [1+1j, -2-2j]])\n",
        "\n",
        "# Sumamos las matrices\n",
        "suma_matrices = M1 + M2\n",
        "\n",
        "print(f\"Matriz 1:\\n{M1}\")\n",
        "print(f\"Matriz 2:\\n{M2}\")\n",
        "print(f\"Suma de matrices:\\n{suma_matrices}\")"
      ]
    },
    {
      "cell_type": "markdown",
      "metadata": {
        "id": "hleawfUwao_c"
      },
      "source": [
        "5. Inversa Aditiva de una Matriz\n",
        "\n",
        "Negamos la matriz para obtener su inverso aditivo."
      ]
    },
    {
      "cell_type": "code",
      "execution_count": null,
      "metadata": {
        "id": "a4F781tebiQp"
      },
      "outputs": [],
      "source": [
        "# Usamos la matriz M1 del ejemplo anterior\n",
        "inversa_M1 = -M1\n",
        "\n",
        "print(f\"Matriz original:\\n{M1}\")\n",
        "print(f\"Inversa aditiva:\\n{inversa_M1}\")"
      ]
    },
    {
      "cell_type": "markdown",
      "metadata": {
        "id": "oyY9qMpebkQn"
      },
      "source": [
        "6. Multiplicación de un Escalar por una Matriz\n",
        "\n",
        "Usamos el operador * para multiplicar el escalar por cada elemento de la matriz."
      ]
    },
    {
      "cell_type": "code",
      "execution_count": null,
      "metadata": {
        "id": "_cTwPM1tbpHv"
      },
      "outputs": [],
      "source": [
        "# Definimos un escalar y una matriz\n",
        "escalar = 0.5\n",
        "matriz = np.array([[1+1j, 2-3j], [4, 5+2j]])\n",
        "\n",
        "# Realizamos la multiplicación\n",
        "resultado_matriz = escalar * matriz\n",
        "\n",
        "print(f\"Escalar: {escalar}\")\n",
        "print(f\"Matriz original:\\n{matriz}\")\n",
        "print(f\"Multiplicación:\\n{resultado_matriz}\")"
      ]
    },
    {
      "cell_type": "markdown",
      "metadata": {
        "id": "ooycCC_Ibtg7"
      },
      "source": [
        "# Operaciones Fundamentales de Álgebra Lineal"
      ]
    },
    {
      "cell_type": "markdown",
      "metadata": {
        "id": "uKGmz_mHbu21"
      },
      "source": [
        "7. Transpuesta de una Matriz/Vector\n",
        "\n",
        "Usamos el atributo .T. Para un vector de una dimensión, primero hay que convertirlo a matriz."
      ]
    },
    {
      "cell_type": "code",
      "execution_count": null,
      "metadata": {
        "id": "pJQ0BKvlbx3W"
      },
      "outputs": [],
      "source": [
        "matriz = np.array([[1+1j, 2-3j], [4, 5+2j]])\n",
        "vector = np.array([1+2j, 3-1j])\n",
        "\n",
        "# Transpuesta de la matriz\n",
        "transpuesta_matriz = matriz.T\n",
        "\n",
        "# Transpuesta del vector (se ve igual si es 1D, se debe visualizar como columna)\n",
        "transpuesta_vector = vector.T\n",
        "\n",
        "print(f\"Matriz original:\\n{matriz}\")\n",
        "print(f\"Matriz transpuesta:\\n{transpuesta_matriz}\")\n",
        "print(\"-\" * 20)\n",
        "print(f\"Vector original: {vector}\")\n",
        "print(f\"Vector transpuesto: {transpuesta_vector}\")"
      ]
    },
    {
      "cell_type": "markdown",
      "metadata": {
        "id": "lZLEhQBFb1Mf"
      },
      "source": [
        "8. Conjugada de una Matriz/Vector\n",
        "\n",
        "Se utiliza la función np.conjugate()."
      ]
    },
    {
      "cell_type": "code",
      "execution_count": null,
      "metadata": {
        "id": "MbwPX4TCb35M"
      },
      "outputs": [],
      "source": [
        "matriz = np.array([[1+1j, 2-3j], [4, 5+2j]])\n",
        "vector = np.array([1+2j, 3-1j])\n",
        "\n",
        "# Conjugada de la matriz\n",
        "conjugada_matriz = np.conjugate(matriz)\n",
        "\n",
        "# Conjugada del vector\n",
        "conjugada_vector = np.conjugate(vector)\n",
        "\n",
        "print(f\"Matriz original:\\n{matriz}\")\n",
        "print(f\"Matriz conjugada:\\n{conjugada_matriz}\")\n",
        "print(\"-\" * 20)\n",
        "print(f\"Vector original: {vector}\")\n",
        "print(f\"Vector conjugado: {conjugada_vector}\")"
      ]
    },
    {
      "cell_type": "markdown",
      "metadata": {
        "id": "DjL2JQHMb7Oe"
      },
      "source": [
        "9. Adjunta (Daga) de una Matriz/Vector\n",
        "\n",
        "La adjunta es la transpuesta conjugada. Se puede obtener combinando .T y np.conjugate() o, más fácil, usando .conj().T."
      ]
    },
    {
      "cell_type": "code",
      "execution_count": null,
      "metadata": {
        "id": "pZDjWPKQb9C5"
      },
      "outputs": [],
      "source": [
        "matriz = np.array([[1+1j, 2-3j], [4, 5+2j]])\n",
        "vector = np.array([1+2j, 3-1j])\n",
        "\n",
        "# Adjunta de la matriz\n",
        "adjunta_matriz = matriz.conj().T\n",
        "\n",
        "# Adjunta del vector\n",
        "adjunta_vector = vector.conj().T\n",
        "\n",
        "print(f\"Matriz original:\\n{matriz}\")\n",
        "print(f\"Matriz adjunta (daga):\\n{adjunta_matriz}\")\n",
        "print(\"-\" * 20)\n",
        "print(f\"Vector original: {vector}\")\n",
        "print(f\"Vector adjunto (daga): {adjunta_vector}\")"
      ]
    },
    {
      "cell_type": "markdown",
      "metadata": {
        "id": "yOjqaz4Vb-0k"
      },
      "source": [
        "10. Producto de Dos Matrices\n",
        "\n",
        "El producto matricial (no el producto elemento a elemento) se realiza con el operador @."
      ]
    },
    {
      "cell_type": "code",
      "execution_count": null,
      "metadata": {
        "id": "zKCwQh8wcAY-"
      },
      "outputs": [],
      "source": [
        "M1 = np.array([[1+1j, 2], [3j, 4+2j]])\n",
        "M2 = np.array([[2-1j, 1], [3, -2j]])\n",
        "\n",
        "# Producto M1 * M2\n",
        "producto = M1 @ M2\n",
        "\n",
        "print(f\"Matriz 1:\\n{M1}\")\n",
        "print(f\"Matriz 2:\\n{M2}\")\n",
        "print(f\"Producto de matrices:\\n{producto}\")"
      ]
    },
    {
      "cell_type": "markdown",
      "metadata": {
        "id": "Asyg_3D0cB83"
      },
      "source": [
        "11. Acción de una Matriz sobre un Vector\n",
        "\n",
        "Esto es equivalente al producto de una matriz por un vector, y también se usa el operador @."
      ]
    },
    {
      "cell_type": "code",
      "execution_count": null,
      "metadata": {
        "id": "ggOamCgPcFsH"
      },
      "outputs": [],
      "source": [
        "matriz = np.array([[0, 1j], [-1j, 0]]) # Matriz de Pauli-Y\n",
        "vector = np.array([1+2j, 3-4j])\n",
        "\n",
        "# Acción de la matriz sobre el vector\n",
        "accion = matriz @ vector\n",
        "\n",
        "print(f\"Matriz:\\n{matriz}\")\n",
        "print(f\"Vector: {vector}\")\n",
        "print(f\"Acción (resultado): {accion}\")"
      ]
    },
    {
      "cell_type": "markdown",
      "metadata": {
        "id": "1Gr07wehcH8w"
      },
      "source": [
        "# Métricas y Propiedades"
      ]
    },
    {
      "cell_type": "markdown",
      "metadata": {
        "id": "toLIMuNUcI7x"
      },
      "source": [
        "12. Producto Interno de Dos Vectores\n",
        "\n",
        "Se usa np.vdot(), que calcula $\\\\langle v1 | v2 \\\\rangle = v1^\\\\dagger v2$. Es importante usar vdot y no dot para vectores complejos, ya que vdot conjuga el primer vector."
      ]
    },
    {
      "cell_type": "code",
      "execution_count": null,
      "metadata": {
        "id": "nvDAEVpPcOjD"
      },
      "outputs": [],
      "source": [
        "v1 = np.array([1+2j, 3-1j])\n",
        "v2 = np.array([2-1j, 5])\n",
        "\n",
        "# Producto interno <v1|v2>\n",
        "producto_interno = np.vdot(v1, v2)\n",
        "\n",
        "print(f\"Vector 1: {v1}\")\n",
        "print(f\"Vector 2: {v2}\")\n",
        "print(f\"Producto interno: {producto_interno}\")"
      ]
    },
    {
      "cell_type": "markdown",
      "metadata": {
        "id": "tuIIvyUBcT1u"
      },
      "source": [
        "13. Norma de un Vector\n",
        "\n",
        "La norma de un vector v es\n",
        "sqrtlanglev∣vrangle. Se calcula con np.linalg.norm()."
      ]
    },
    {
      "cell_type": "code",
      "execution_count": null,
      "metadata": {
        "id": "Q6sP8gaAcX3_"
      },
      "outputs": [],
      "source": [
        "vector = np.array([3, 4j])\n",
        "\n",
        "# Norma del vector\n",
        "norma = np.linalg.norm(vector)\n",
        "\n",
        "print(f\"Vector: {vector}\")\n",
        "print(f\"Norma: {norma}\")"
      ]
    },
    {
      "cell_type": "markdown",
      "metadata": {
        "id": "QE2gT3sicalS"
      },
      "source": [
        "14. Distancia entre Dos Vectores\n",
        "\n",
        "La distancia es la norma de la diferencia entre los vectores."
      ]
    },
    {
      "cell_type": "code",
      "execution_count": null,
      "metadata": {
        "id": "S4rkplKCccL-"
      },
      "outputs": [],
      "source": [
        "v1 = np.array([1, 2j])\n",
        "v2 = np.array([2, 3j])\n",
        "\n",
        "# Distancia entre v1 y v2\n",
        "distancia = np.linalg.norm(v1 - v2)\n",
        "\n",
        "print(f\"Vector 1: {v1}\")\n",
        "print(f\"Vector 2: {v2}\")\n",
        "print(f\"Distancia: {distancia}\")"
      ]
    },
    {
      "cell_type": "markdown",
      "metadata": {
        "id": "q1TYyKzTceLU"
      },
      "source": [
        "15. Valores y Vectores Propios\n",
        "\n",
        "Se utiliza np.linalg.eig() para obtener los autovalores (eigenvalues) y autovectores (eigenvectors)."
      ]
    },
    {
      "cell_type": "code",
      "execution_count": null,
      "metadata": {
        "id": "VA_LMSincfdY"
      },
      "outputs": [],
      "source": [
        "# Matriz de Pauli-X\n",
        "matriz_X = np.array([[0, 1], [1, 0]])\n",
        "\n",
        "# Calculamos valores y vectores propios\n",
        "valores_propios, vectores_propios = np.linalg.eig(matriz_X)\n",
        "\n",
        "print(f\"Matriz:\\n{matriz_X}\")\n",
        "print(f\"Valores propios: {valores_propios}\")\n",
        "print(f\"Vectores propios:\\n{vectores_propios}\")"
      ]
    },
    {
      "cell_type": "markdown",
      "metadata": {
        "id": "t0Mr5iDochzM"
      },
      "source": [
        "16. Revisar si una Matriz es Unitaria\n",
        "\n",
        "Una matriz U es unitaria si $U^\\\\dagger U = I$ (la matriz identidad)."
      ]
    },
    {
      "cell_type": "code",
      "execution_count": null,
      "metadata": {
        "id": "VAYopvDTcjYG"
      },
      "outputs": [],
      "source": [
        "def es_unitaria(matriz):\n",
        "    # Verificamos que sea cuadrada\n",
        "    if matriz.shape[0] != matriz.shape[1]:\n",
        "        return False\n",
        "\n",
        "    # Calculamos U_daga * U\n",
        "    producto = matriz.conj().T @ matriz\n",
        "\n",
        "    # Comparamos con la matriz identidad\n",
        "    identidad = np.identity(matriz.shape[0])\n",
        "    return np.allclose(producto, identidad)\n",
        "\n",
        "# Matriz de Hadamard (es unitaria)\n",
        "H = (1/np.sqrt(2)) * np.array([[1, 1], [1, -1]])\n",
        "\n",
        "# Matriz que no es unitaria\n",
        "No_U = np.array([[1, 1j], [0, 1]])\n",
        "\n",
        "print(f\"Matriz H:\\n{H}\")\n",
        "print(f\"¿Es unitaria? {es_unitaria(H)}\")\n",
        "print(\"-\" * 20)\n",
        "print(f\"Matriz No_U:\\n{No_U}\")\n",
        "print(f\"¿Es unitaria? {es_unitaria(No_U)}\")"
      ]
    },
    {
      "cell_type": "markdown",
      "metadata": {
        "id": "ef3LBrQmclsn"
      },
      "source": [
        "17. Revisar si una Matriz es Hermitiana\n",
        "\n",
        "Una matriz H es Hermitiana si es igual a su propia adjunta ($H = H^\\\\dagger$)."
      ]
    },
    {
      "cell_type": "code",
      "execution_count": null,
      "metadata": {
        "id": "TXef4GMycoHR"
      },
      "outputs": [],
      "source": [
        "def es_hermitiana(matriz):\n",
        "    # Verificamos que sea cuadrada\n",
        "    if matriz.shape[0] != matriz.shape[1]:\n",
        "        return False\n",
        "\n",
        "    # Comparamos la matriz con su adjunta\n",
        "    return np.allclose(matriz, matriz.conj().T)\n",
        "\n",
        "# Matriz de Pauli-Z (es Hermitiana)\n",
        "Z = np.array([[1, 0], [0, -1]])\n",
        "\n",
        "# Matriz que no es Hermitiana\n",
        "No_H = np.array([[1, 1+1j], [1-1j, 2j]])\n",
        "\n",
        "print(f\"Matriz Z:\\n{Z}\")\n",
        "print(f\"¿Es Hermitiana? {es_hermitiana(Z)}\")\n",
        "print(\"-\" * 20)\n",
        "print(f\"Matriz No_H:\\n{No_H}\")\n",
        "print(f\"¿Es Hermitiana? {es_hermitiana(No_H)}\")"
      ]
    },
    {
      "cell_type": "markdown",
      "metadata": {
        "id": "7nnv6oXNctBZ"
      },
      "source": [
        "# Operaciones de Múltiples Sistemas"
      ]
    },
    {
      "cell_type": "markdown",
      "metadata": {
        "id": "CWaAkywLcvsx"
      },
      "source": [
        "18. Producto Tensor de Dos Matrices/Vectores\n",
        "\n",
        "Se utiliza la función np.kron() (de producto de Kronecker)."
      ]
    },
    {
      "cell_type": "code",
      "execution_count": null,
      "metadata": {
        "id": "3J1No35bcxZA"
      },
      "outputs": [],
      "source": [
        "# Producto tensor de dos vectores (qubits)\n",
        "q0 = np.array([1, 0])  # |0>\n",
        "q1 = np.array([0, 1])  # |1>\n",
        "q01 = np.kron(q0, q1)  # |0> ⊗ |1> = |01>\n",
        "\n",
        "print(f\"Vector q0: {q0}\")\n",
        "print(f\"Vector q1: {q1}\")\n",
        "print(f\"Producto tensor de vectores |01>: {q01}\")\n",
        "print(\"-\" * 30)\n",
        "\n",
        "# Producto tensor de dos matrices (operadores)\n",
        "X = np.array([[0, 1], [1, 0]])\n",
        "I = np.identity(2)\n",
        "XI = np.kron(X, I) # Puerta CNOT (control-X) es un ejemplo más complejo\n",
        "\n",
        "print(f\"Matriz X:\\n{X}\")\n",
        "print(f\"Matriz Identidad:\\n{I}\")\n",
        "print(f\"Producto tensor de matrices X ⊗ I:\\n{XI}\")"
      ]
    }
  ],
  "metadata": {
    "colab": {
      "provenance": []
    },
    "kernelspec": {
      "display_name": "Python 3",
      "name": "python3"
    },
    "language_info": {
      "codemirror_mode": {
        "name": "ipython",
        "version": 3
      },
      "file_extension": ".py",
      "mimetype": "text/x-python",
      "name": "python",
      "nbconvert_exporter": "python",
      "pygments_lexer": "ipython3",
      "version": "3.11.9"
    }
  },
  "nbformat": 4,
  "nbformat_minor": 0
}
